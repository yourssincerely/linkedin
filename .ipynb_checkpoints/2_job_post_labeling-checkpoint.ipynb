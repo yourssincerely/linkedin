{
 "cells": [
  {
   "cell_type": "code",
   "execution_count": 1,
   "id": "24554c77",
   "metadata": {},
   "outputs": [],
   "source": [
    "from functions.db import *\n",
    "from functions.labeling import *\n",
    "import numpy as np\n",
    "import time"
   ]
  },
  {
   "cell_type": "code",
   "execution_count": 2,
   "id": "60f266cf",
   "metadata": {},
   "outputs": [
    {
     "name": "stderr",
     "output_type": "stream",
     "text": [
      "C:\\Users\\Ruben\\anaconda3\\lib\\site-packages\\transformers\\pipelines\\base.py:1070: UserWarning: You seem to be using the pipelines sequentially on GPU. In order to maximize efficiency please use a dataset\n",
      "  warnings.warn(\n"
     ]
    },
    {
     "name": "stdout",
     "output_type": "stream",
     "text": [
      "0 hours and 0 minutes remaining...           \r"
     ]
    }
   ],
   "source": [
    "df = sql_query_to_pandas(\"SELECT description FROM job_posts\").to_numpy()\n",
    "Bert = Bert_for_zero_shot_classification()\n",
    "python_scores = []\n",
    "analysis_scores = []\n",
    "sql_scores = []\n",
    "overall_scores = []\n",
    "count = 0\n",
    "time_array = []\n",
    "for job in df:\n",
    "    beginning = time.time()\n",
    "    python_score = pipe(Bert, \"python\", job)\n",
    "    python_scores.append(python_score)\n",
    "    analysis_score = pipe(Bert, \"data analysis\", job)\n",
    "    analysis_scores.append(analysis_score)\n",
    "    sql_score = pipe(Bert, \"sql\", job)\n",
    "    sql_scores.append(sql_score)\n",
    "    overall_score = 3*python_score + 1.5*analysis_score + sql_score\n",
    "    overall_scores.append(overall_score)\n",
    "    count += 1\n",
    "    end = time.time()\n",
    "    job_time = time.time() - beginning\n",
    "    time_array.append(job_time)\n",
    "    jobs_left = df.shape[0] - count\n",
    "    avg_time = sum(time_array)/len(time_array)\n",
    "    remaining_time = jobs_left * avg_time\n",
    "    hours_remaining = int(remaining_time // 3600)\n",
    "    minutes_remaining = int((remaining_time % 3600) // 60)\n",
    "    message = f\"{hours_remaining} hours and {minutes_remaining} minutes remaining...          \"\n",
    "    if count % 10 == 0:\n",
    "        print(message, end = \"\\r\", flush = True)"
   ]
  },
  {
   "cell_type": "code",
   "execution_count": 3,
   "id": "1ab05e66",
   "metadata": {},
   "outputs": [
    {
     "name": "stdout",
     "output_type": "stream",
     "text": [
      "Table job_posts was created with 5157 entries!\n"
     ]
    }
   ],
   "source": [
    "db_df = sql_query_to_pandas(\"SELECT id FROM job_posts\")\n",
    "db_df[\"python\"] = python_scores\n",
    "db_df[\"analytics\"] = analysis_scores\n",
    "db_df[\"sql\"] = sql_scores\n",
    "db_df[\"overall\"] = overall_scores\n",
    "pandas_to_mysql(db_df, \"job_posts\")"
   ]
  }
 ],
 "metadata": {
  "kernelspec": {
   "display_name": "Python 3 (ipykernel)",
   "language": "python",
   "name": "python3"
  },
  "language_info": {
   "codemirror_mode": {
    "name": "ipython",
    "version": 3
   },
   "file_extension": ".py",
   "mimetype": "text/x-python",
   "name": "python",
   "nbconvert_exporter": "python",
   "pygments_lexer": "ipython3",
   "version": "3.9.13"
  },
  "toc": {
   "base_numbering": 1,
   "nav_menu": {},
   "number_sections": true,
   "sideBar": true,
   "skip_h1_title": false,
   "title_cell": "Table of Contents",
   "title_sidebar": "Contents",
   "toc_cell": false,
   "toc_position": {},
   "toc_section_display": true,
   "toc_window_display": false
  },
  "varInspector": {
   "cols": {
    "lenName": 16,
    "lenType": 16,
    "lenVar": 40
   },
   "kernels_config": {
    "python": {
     "delete_cmd_postfix": "",
     "delete_cmd_prefix": "del ",
     "library": "var_list.py",
     "varRefreshCmd": "print(var_dic_list())"
    },
    "r": {
     "delete_cmd_postfix": ") ",
     "delete_cmd_prefix": "rm(",
     "library": "var_list.r",
     "varRefreshCmd": "cat(var_dic_list()) "
    }
   },
   "types_to_exclude": [
    "module",
    "function",
    "builtin_function_or_method",
    "instance",
    "_Feature"
   ],
   "window_display": false
  }
 },
 "nbformat": 4,
 "nbformat_minor": 5
}
