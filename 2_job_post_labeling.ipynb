{
 "cells": [
  {
   "cell_type": "code",
   "execution_count": 1,
   "id": "24554c77",
   "metadata": {},
   "outputs": [],
   "source": [
    "from functions.db import *\n",
    "from functions.labeling import *\n",
    "import numpy as np\n",
    "import time"
   ]
  },
  {
   "cell_type": "markdown",
   "id": "86ed6430",
   "metadata": {},
   "source": [
    "# Labeling the job descriptions\n",
    "\n",
    "The next problem we have is that we have too many jobs. While LinkedIn filters work, I've found that they're not enough for me to really filter out the jobs I am not a good match for.\n",
    "\n",
    "This is when NLP comes in. I've used <a href=\"https://huggingface.co/docs/transformers/index\">HuggingFace's transformers</a> and <a href=\"https://huggingface.co/facebook/bart-large-mnli\"> Facebook's Barte Large MNLI</a> to create a function that will go through all of the job descriptions in our database and will assign a score depending on how much these job descriptions fit certain labels.\n",
    "\n",
    "Since I am a data science student, I am interested in jobs that fit the following labels:\n",
    "\n",
    "* Python\n",
    "* Data analysis\n",
    "* SQL\n",
    "\n",
    "But considering that I am a student, I have to look for junior positions, so I've added the following label too:\n",
    "\n",
    "* Junior level\n",
    "\n",
    "I also wanted to create an overall score, for which I used the python, data analysis and sql scores combined, assigning them some weights according to my personal interests! \n",
    "\n",
    "This function below can be quite slow depending on the machine you're using. I've added a timer that estimates how much time left to completion!"
   ]
  },
  {
   "cell_type": "code",
   "execution_count": 2,
   "id": "60f266cf",
   "metadata": {
    "scrolled": true
   },
   "outputs": [
    {
     "name": "stderr",
     "output_type": "stream",
     "text": [
      "C:\\Users\\Ruben\\anaconda3\\envs\\linkedin\\lib\\site-packages\\transformers\\pipelines\\base.py:1073: UserWarning: You seem to be using the pipelines sequentially on GPU. In order to maximize efficiency please use a dataset\n",
      "  UserWarning,\n"
     ]
    },
    {
     "name": "stdout",
     "output_type": "stream",
     "text": [
      "0 hours and 0 minutes remaining...           \r"
     ]
    }
   ],
   "source": [
    "df = sql_query_to_pandas(\"SELECT description FROM job_posts\").to_numpy()\n",
    "Bert = Bert_for_zero_shot_classification()\n",
    "python_scores = []\n",
    "analysis_scores = []\n",
    "sql_scores = []\n",
    "junior_scores = []\n",
    "overall_scores = []\n",
    "count = 0\n",
    "time_array = []\n",
    "for job in df:\n",
    "    beginning = time.time()\n",
    "    python_score = pipe(Bert, \"python\", job)\n",
    "    python_scores.append(python_score)\n",
    "    analysis_score = pipe(Bert, \"data analysis\", job)\n",
    "    analysis_scores.append(analysis_score)\n",
    "    sql_score = pipe(Bert, \"sql\", job)\n",
    "    sql_scores.append(sql_score)\n",
    "    junior_score = pipe(Bert, \"junior level\", job)\n",
    "    junior_scores.append(junior_score)\n",
    "    overall_score = 3*python_score + 1.5*analysis_score + sql_score\n",
    "    overall_scores.append(overall_score)\n",
    "    count += 1\n",
    "    end = time.time()\n",
    "    job_time = time.time() - beginning\n",
    "    time_array.append(job_time)\n",
    "    jobs_left = df.shape[0] - count\n",
    "    avg_time = sum(time_array)/len(time_array)\n",
    "    remaining_time = jobs_left * avg_time\n",
    "    hours_remaining = int(remaining_time // 3600)\n",
    "    minutes_remaining = int((remaining_time % 3600) // 60)\n",
    "    message = f\"{hours_remaining} hours and {minutes_remaining} minutes remaining...          \"\n",
    "    if count % 10 == 0:\n",
    "        print(message, end = \"\\r\", flush = True)"
   ]
  },
  {
   "cell_type": "markdown",
   "id": "d30188ed",
   "metadata": {},
   "source": [
    "Once we have the arrays that contain the scores for each one of these labels, we create a dataframe with the `id`s of the jobs and their scores. Then we create a database table for the job scores."
   ]
  },
  {
   "cell_type": "code",
   "execution_count": 3,
   "id": "1ab05e66",
   "metadata": {},
   "outputs": [
    {
     "data": {
      "text/html": [
       "<div>\n",
       "<style scoped>\n",
       "    .dataframe tbody tr th:only-of-type {\n",
       "        vertical-align: middle;\n",
       "    }\n",
       "\n",
       "    .dataframe tbody tr th {\n",
       "        vertical-align: top;\n",
       "    }\n",
       "\n",
       "    .dataframe thead th {\n",
       "        text-align: right;\n",
       "    }\n",
       "</style>\n",
       "<table border=\"1\" class=\"dataframe\">\n",
       "  <thead>\n",
       "    <tr style=\"text-align: right;\">\n",
       "      <th></th>\n",
       "      <th>id</th>\n",
       "      <th>python</th>\n",
       "      <th>analytics</th>\n",
       "      <th>sql</th>\n",
       "      <th>junior</th>\n",
       "      <th>overall</th>\n",
       "    </tr>\n",
       "  </thead>\n",
       "  <tbody>\n",
       "    <tr>\n",
       "      <th>0</th>\n",
       "      <td>1</td>\n",
       "      <td>2.675368</td>\n",
       "      <td>2.588062</td>\n",
       "      <td>2.725649</td>\n",
       "      <td>1.241452</td>\n",
       "      <td>14.633846</td>\n",
       "    </tr>\n",
       "    <tr>\n",
       "      <th>1</th>\n",
       "      <td>2</td>\n",
       "      <td>2.065728</td>\n",
       "      <td>2.554153</td>\n",
       "      <td>2.041401</td>\n",
       "      <td>1.645679</td>\n",
       "      <td>12.069816</td>\n",
       "    </tr>\n",
       "    <tr>\n",
       "      <th>2</th>\n",
       "      <td>3</td>\n",
       "      <td>1.827861</td>\n",
       "      <td>1.539850</td>\n",
       "      <td>1.603662</td>\n",
       "      <td>1.105828</td>\n",
       "      <td>9.397020</td>\n",
       "    </tr>\n",
       "    <tr>\n",
       "      <th>3</th>\n",
       "      <td>4</td>\n",
       "      <td>5.109573</td>\n",
       "      <td>38.508186</td>\n",
       "      <td>5.640140</td>\n",
       "      <td>1.595000</td>\n",
       "      <td>78.731139</td>\n",
       "    </tr>\n",
       "    <tr>\n",
       "      <th>4</th>\n",
       "      <td>5</td>\n",
       "      <td>2.141974</td>\n",
       "      <td>3.493265</td>\n",
       "      <td>3.631444</td>\n",
       "      <td>1.651816</td>\n",
       "      <td>15.297265</td>\n",
       "    </tr>\n",
       "    <tr>\n",
       "      <th>...</th>\n",
       "      <td>...</td>\n",
       "      <td>...</td>\n",
       "      <td>...</td>\n",
       "      <td>...</td>\n",
       "      <td>...</td>\n",
       "      <td>...</td>\n",
       "    </tr>\n",
       "    <tr>\n",
       "      <th>5152</th>\n",
       "      <td>5153</td>\n",
       "      <td>1.211412</td>\n",
       "      <td>1.006622</td>\n",
       "      <td>2.053728</td>\n",
       "      <td>0.865876</td>\n",
       "      <td>7.197896</td>\n",
       "    </tr>\n",
       "    <tr>\n",
       "      <th>5153</th>\n",
       "      <td>5154</td>\n",
       "      <td>3.205282</td>\n",
       "      <td>6.215873</td>\n",
       "      <td>6.520350</td>\n",
       "      <td>4.592146</td>\n",
       "      <td>25.460006</td>\n",
       "    </tr>\n",
       "    <tr>\n",
       "      <th>5154</th>\n",
       "      <td>5155</td>\n",
       "      <td>2.838358</td>\n",
       "      <td>2.325623</td>\n",
       "      <td>2.084330</td>\n",
       "      <td>1.023668</td>\n",
       "      <td>14.087840</td>\n",
       "    </tr>\n",
       "    <tr>\n",
       "      <th>5155</th>\n",
       "      <td>5156</td>\n",
       "      <td>1.930573</td>\n",
       "      <td>1.830294</td>\n",
       "      <td>3.839613</td>\n",
       "      <td>0.860003</td>\n",
       "      <td>12.376772</td>\n",
       "    </tr>\n",
       "    <tr>\n",
       "      <th>5156</th>\n",
       "      <td>5157</td>\n",
       "      <td>1.139581</td>\n",
       "      <td>0.708523</td>\n",
       "      <td>1.055371</td>\n",
       "      <td>1.600190</td>\n",
       "      <td>5.536900</td>\n",
       "    </tr>\n",
       "  </tbody>\n",
       "</table>\n",
       "<p>5157 rows × 6 columns</p>\n",
       "</div>"
      ],
      "text/plain": [
       "        id    python  analytics       sql    junior    overall\n",
       "0        1  2.675368   2.588062  2.725649  1.241452  14.633846\n",
       "1        2  2.065728   2.554153  2.041401  1.645679  12.069816\n",
       "2        3  1.827861   1.539850  1.603662  1.105828   9.397020\n",
       "3        4  5.109573  38.508186  5.640140  1.595000  78.731139\n",
       "4        5  2.141974   3.493265  3.631444  1.651816  15.297265\n",
       "...    ...       ...        ...       ...       ...        ...\n",
       "5152  5153  1.211412   1.006622  2.053728  0.865876   7.197896\n",
       "5153  5154  3.205282   6.215873  6.520350  4.592146  25.460006\n",
       "5154  5155  2.838358   2.325623  2.084330  1.023668  14.087840\n",
       "5155  5156  1.930573   1.830294  3.839613  0.860003  12.376772\n",
       "5156  5157  1.139581   0.708523  1.055371  1.600190   5.536900\n",
       "\n",
       "[5157 rows x 6 columns]"
      ]
     },
     "execution_count": 3,
     "metadata": {},
     "output_type": "execute_result"
    }
   ],
   "source": [
    "db_df = sql_query_to_pandas(\"SELECT id FROM job_posts\")\n",
    "db_df[\"python\"] = python_scores\n",
    "db_df[\"analytics\"] = analysis_scores\n",
    "db_df[\"sql\"] = sql_scores\n",
    "db_df[\"junior\"] = junior_scores\n",
    "db_df[\"overall\"] = overall_scores\n",
    "db_df"
   ]
  },
  {
   "cell_type": "code",
   "execution_count": 4,
   "id": "604e0428",
   "metadata": {},
   "outputs": [
    {
     "name": "stdout",
     "output_type": "stream",
     "text": [
      "5157 entries were added to the table job_labels!\n"
     ]
    }
   ],
   "source": [
    "pandas_to_mysql(db_df, \"job_labels\")"
   ]
  }
 ],
 "metadata": {
  "kernelspec": {
   "display_name": "Python 3 (ipykernel)",
   "language": "python",
   "name": "python3"
  },
  "language_info": {
   "codemirror_mode": {
    "name": "ipython",
    "version": 3
   },
   "file_extension": ".py",
   "mimetype": "text/x-python",
   "name": "python",
   "nbconvert_exporter": "python",
   "pygments_lexer": "ipython3",
   "version": "3.7.12"
  },
  "toc": {
   "base_numbering": 1,
   "nav_menu": {},
   "number_sections": true,
   "sideBar": true,
   "skip_h1_title": false,
   "title_cell": "Table of Contents",
   "title_sidebar": "Contents",
   "toc_cell": false,
   "toc_position": {},
   "toc_section_display": true,
   "toc_window_display": false
  },
  "varInspector": {
   "cols": {
    "lenName": 16,
    "lenType": 16,
    "lenVar": 40
   },
   "kernels_config": {
    "python": {
     "delete_cmd_postfix": "",
     "delete_cmd_prefix": "del ",
     "library": "var_list.py",
     "varRefreshCmd": "print(var_dic_list())"
    },
    "r": {
     "delete_cmd_postfix": ") ",
     "delete_cmd_prefix": "rm(",
     "library": "var_list.r",
     "varRefreshCmd": "cat(var_dic_list()) "
    }
   },
   "types_to_exclude": [
    "module",
    "function",
    "builtin_function_or_method",
    "instance",
    "_Feature"
   ],
   "window_display": false
  }
 },
 "nbformat": 4,
 "nbformat_minor": 5
}
