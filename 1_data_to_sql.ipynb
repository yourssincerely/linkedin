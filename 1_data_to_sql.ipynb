{
 "cells": [
  {
   "cell_type": "code",
   "execution_count": 1,
   "id": "ac6c0aaf",
   "metadata": {},
   "outputs": [],
   "source": [
    "from functions.db import *"
   ]
  },
  {
   "cell_type": "markdown",
   "id": "93b1491b",
   "metadata": {},
   "source": [
    "# Creating a database for the jobs info we have\n",
    "\n",
    "I've spent a few months collecting job posts with a script that I designed so that I could get enough data to understand the job market.\n",
    "\n",
    "The job information is stored in .csv files in the folder `data`. With this function we open and concatenate all the csv files into a single dataframe, and we remove any duplicates. We also insert an ID that will work as primary key in our SQL database."
   ]
  },
  {
   "cell_type": "code",
   "execution_count": 2,
   "id": "f5b5ac3e",
   "metadata": {},
   "outputs": [],
   "source": [
    "def get_df_from_csv(path:str = \"data\", \n",
    "                    subset:str = \"description\"):\n",
    "    \"\"\"\n",
    "    path: str \n",
    "        Folder path, defaults to \"data\". The function will take all the csv\n",
    "        file in this path and concatenate them to a pandas.core.frame.DataFrame.\n",
    "    subset: str \n",
    "        Column name. Defaults to \"description\". The function will drop duplicates\n",
    "        in this column.\n",
    "        \n",
    "    return: pandas.core.frame.DataFrame\n",
    "    \n",
    "    Takes a folder containing csv files only and returns a pandas.core.frame.DataFrame \n",
    "    object concatenating all the files in that folder and removing duplicates in the \n",
    "    subset column.\n",
    "    \"\"\"\n",
    "    data_dir = os.listdir(path)\n",
    "    df = pd.concat(\n",
    "        [pd.read_csv(f\"{path}/{file}\", header = 0) for file in data_dir],\n",
    "        join=\"outer\",\n",
    "        ignore_index=True)\n",
    "    df.drop_duplicates(\n",
    "        subset=subset,\n",
    "        keep=\"first\",\n",
    "        inplace=True,\n",
    "        ignore_index=True)\n",
    "    df.insert(0, \"id\", range(1, df.shape[0] + 1))\n",
    "    return df"
   ]
  },
  {
   "cell_type": "markdown",
   "id": "d7a55cdd",
   "metadata": {},
   "source": [
    "Now that we have all our data in a single dataframe, we call our function to create a database table from a pandas dataframe!"
   ]
  },
  {
   "cell_type": "code",
   "execution_count": 3,
   "id": "ff702933",
   "metadata": {
    "scrolled": true
   },
   "outputs": [
    {
     "name": "stdout",
     "output_type": "stream",
     "text": [
      "5157 entries were added to the table job_posts!\n"
     ]
    }
   ],
   "source": [
    "pandas_to_mysql(get_df_from_csv(), \"job_posts\")"
   ]
  }
 ],
 "metadata": {
  "kernelspec": {
   "display_name": "Python 3 (ipykernel)",
   "language": "python",
   "name": "python3"
  },
  "language_info": {
   "codemirror_mode": {
    "name": "ipython",
    "version": 3
   },
   "file_extension": ".py",
   "mimetype": "text/x-python",
   "name": "python",
   "nbconvert_exporter": "python",
   "pygments_lexer": "ipython3",
   "version": "3.7.12"
  },
  "toc": {
   "base_numbering": 1,
   "nav_menu": {},
   "number_sections": true,
   "sideBar": true,
   "skip_h1_title": false,
   "title_cell": "Table of Contents",
   "title_sidebar": "Contents",
   "toc_cell": false,
   "toc_position": {},
   "toc_section_display": true,
   "toc_window_display": false
  },
  "varInspector": {
   "cols": {
    "lenName": 16,
    "lenType": 16,
    "lenVar": 40
   },
   "kernels_config": {
    "python": {
     "delete_cmd_postfix": "",
     "delete_cmd_prefix": "del ",
     "library": "var_list.py",
     "varRefreshCmd": "print(var_dic_list())"
    },
    "r": {
     "delete_cmd_postfix": ") ",
     "delete_cmd_prefix": "rm(",
     "library": "var_list.r",
     "varRefreshCmd": "cat(var_dic_list()) "
    }
   },
   "types_to_exclude": [
    "module",
    "function",
    "builtin_function_or_method",
    "instance",
    "_Feature"
   ],
   "window_display": false
  }
 },
 "nbformat": 4,
 "nbformat_minor": 5
}
